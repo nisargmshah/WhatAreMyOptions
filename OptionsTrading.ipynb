{
 "cells": [
  {
   "cell_type": "code",
   "execution_count": 73,
   "metadata": {},
   "outputs": [
    {
     "name": "stdout",
     "output_type": "stream",
     "text": [
      "SUCCESS\n"
     ]
    }
   ],
   "source": [
    "# predictor\n",
    "import pandas_datareader.data as web\n",
    "from datetime import datetime, date\n",
    "import pandas as pd\n",
    "import numpy as np\n",
    "\n",
    "class Options:\n",
    "    def __init__(self, ticker):\n",
    "        self.ticker = ticker\n",
    "    \n",
    "    def get_historical_stock_data(self, start, end):\n",
    "        stocks = web.DataReader(self.ticker, 'iex', start, end)\n",
    "        return stocks\n",
    "\n",
    "\n",
    "    def make_stock_data_array(self, stocks):\n",
    "        year_array = np.array([2016, 2017, 2018, 2019])\n",
    "        month_array = np.array(range(1,13))\n",
    "        day_array = np.array(range(1, 32))\n",
    "        full_stock_data = np.array([])\n",
    "        for year in year_array:\n",
    "            for month in month_array:\n",
    "                for day in day_array:\n",
    "                    try:\n",
    "                        current_date = date(year, month, day)\n",
    "                        if current_date > date.today():\n",
    "                            return full_stock_data\n",
    "                        day_data = stocks.loc[str(current_date), \"low\"]\n",
    "                        full_stock_data = np.append(full_stock_data, day_data)\n",
    "                    except:\n",
    "                        continue\n",
    "                        \n",
    "    def create_array_of_arrays(self, full_stock_data):\n",
    "        feature_data = []\n",
    "        labels = []\n",
    "        while len(full_stock_data)>=26:\n",
    "            feature_data.append(full_stock_data[:20])\n",
    "            last_price = full_stock_data[19]\n",
    "            max_price = max(full_stock_data[20:26])\n",
    "            if max_price / last_price > 1.01:\n",
    "                labels.append(1)\n",
    "            else:\n",
    "                labels.append(0)\n",
    "            full_stock_data = full_stock_data[1:]\n",
    "        \n",
    "        if len(labels) == len(feature_data):\n",
    "            return [labels, feature_data]\n",
    "        else:\n",
    "            return None        \n",
    "        \n",
    "    def write_to_files(self, labels, feature_data):\n",
    "        labels_df = pd.DataFrame([labels])\n",
    "        feature_data_df = pd.DataFrame(feature_data)\n",
    "        status = False\n",
    "        \n",
    "        if labels_df is not None and feature_data_df is not None:\n",
    "            labels_df.to_csv(index=False, path_or_buf='labels.csv', sep = ',', header = False)\n",
    "            feature_data_df.to_csv(index=False, path_or_buf='feature_data.csv', sep = ',', header = False)\n",
    "            status = True\n",
    "        return status\n",
    "        \n",
    "     \n",
    "if __name__ == \"__main__\": \n",
    "    options_data = Options('FIT')\n",
    "    \n",
    "    stocks = options_data.get_historical_stock_data(datetime(2016,1,1), datetime(2019,5,17))\n",
    "\n",
    "    full_stock_data = options_data.make_stock_data_array(stocks)\n",
    "    [labels, feature_data] = options_data.create_array_of_arrays(full_stock_data)\n",
    "\n",
    "    status = options_data.write_to_files(labels, feature_data)\n",
    "    if(status):\n",
    "        print(\"SUCCESS\")\n",
    "    else:\n",
    "        print(\"FAILURE\")\n"
   ]
  }
 ],
 "metadata": {
  "kernelspec": {
   "display_name": "Python 3",
   "language": "python",
   "name": "python3"
  },
  "language_info": {
   "codemirror_mode": {
    "name": "ipython",
    "version": 3
   },
   "file_extension": ".py",
   "mimetype": "text/x-python",
   "name": "python",
   "nbconvert_exporter": "python",
   "pygments_lexer": "ipython3",
   "version": "3.6.7"
  }
 },
 "nbformat": 4,
 "nbformat_minor": 2
}
